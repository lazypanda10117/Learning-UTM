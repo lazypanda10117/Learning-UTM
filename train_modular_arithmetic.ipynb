{
 "cells": [
  {
   "cell_type": "code",
   "execution_count": 1,
   "metadata": {},
   "outputs": [],
   "source": [
    "import haiku as hk\n",
    "import jax\n",
    "import jax.numpy as jnp\n",
    "import functools\n",
    "import numpy as np\n",
    "import optax\n",
    "import tqdm\n",
    "import tree\n",
    "import pandas as pd\n",
    "import matplotlib.pyplot as plt\n",
    "\n",
    "from absl import logging\n",
    "from typing import Any\n",
    "\n",
    "from data import utm_data_generator as utm_dg_lib\n",
    "from data import chomsky_data_generator as chomsky_sampler_lib\n",
    "from helpers import make_chomsky_generator, utm_data_generator, make_model, init_params, save_params, evaluate_transformer_decoder, CHOMSKY_ALPHABET_SIZE"
   ]
  },
  {
   "cell_type": "code",
   "execution_count": 2,
   "metadata": {},
   "outputs": [],
   "source": [
    "seed = 1\n",
    "\n",
    "# Follows the paper's parameters\n",
    "TRAINING_STEPS = 100000\n",
    "EXECUTION_STEPS = 1000\n",
    "USE_DELIMITERS = True\n",
    "MEMORY_SIZE = 200\n",
    "BATCH_SIZE = 32\n",
    "\n",
    "# Use Markov = [True, False]\n",
    "USE_MARKOV = True\n",
    "# Model Size = [\"small\", \"medium\", \"large\"]\n",
    "MODEL_SIZE = \"large\""
   ]
  },
  {
   "cell_type": "code",
   "execution_count": 3,
   "metadata": {},
   "outputs": [],
   "source": [
    "def _make_loss_fn(model: hk.Transformed) -> Any:\n",
    "  \"\"\"Returns the loss function for update_parameters.\"\"\"\n",
    "\n",
    "  def loss_fn(\n",
    "      params: hk.Params,\n",
    "      sequences: jax.Array,\n",
    "      mask: jax.Array,\n",
    "  ) -> jnp.float32:\n",
    "    \"\"\"Returns the loss for the model and the last state.\n",
    "\n",
    "    Args:\n",
    "      params: The parameters of the model, usually a neural network.\n",
    "      sequences: The input of sequences to evaluate. See neural_predictors.py.\n",
    "      mask: A binary array, True (1's) denote where to skip computing the loss.\n",
    "    \"\"\"\n",
    "    # This code computes the loss for a transformer decoder model:\n",
    "    # 1. Apply the model to get log probabilities (conditionals) for each token\n",
    "    conditionals = model.apply(\n",
    "        params=params,\n",
    "        targets=sequences,\n",
    "        rng=None,\n",
    "    )\n",
    "    # 2. Extract the log probabilities of the actual tokens that appeared in the sequence\n",
    "    # by using take_along_axis to select the probability corresponding to each token\n",
    "    true_conditionals = jnp.take_along_axis(\n",
    "        conditionals, sequences[..., None], axis=-1\n",
    "    )[..., 0]\n",
    "    # 3. Apply the mask to zero out log probabilities where we should skip computing loss (e.g., for padding tokens)\n",
    "    true_conditionals = jnp.where(mask, 0.0, true_conditionals)\n",
    "    # 4. Sum the log probabilities across the sequence dimension to get log likelihood per batch\n",
    "    marginals = jnp.sum(true_conditionals, axis=1)  # Shape (B,).\n",
    "    # 5. Return the negative mean log likelihood as the loss (for minimization)\n",
    "    return -jnp.mean(marginals)\n",
    "\n",
    "  return loss_fn\n",
    "\n",
    "\n",
    "@functools.partial(\n",
    "    jax.jit, static_argnames=('optimizer', 'grad_fn', 'normalize_gradients')\n",
    ")\n",
    "def _update_parameters(\n",
    "    params: hk.Params,\n",
    "    opt_state: optax.OptState,\n",
    "    sequences: jax.Array,\n",
    "    mask: jax.Array,\n",
    "    grad_fn: Any,\n",
    "    optimizer: optax.GradientTransformation,\n",
    "    normalize_gradients: bool = True,\n",
    ") -> tuple[hk.Params, optax.OptState, dict[str, Any]]:\n",
    "  \"\"\"Returns updated params and extra logs (like loss, last state etc).\n",
    "\n",
    "  Backpropagation is done on the whole sequence. The whole function is jitted.\n",
    "\n",
    "  Args:\n",
    "    params: The current parameters of the network.\n",
    "    opt_state: The optimizer state.\n",
    "    sequences: The input of sequences to evaluate. See base_predictor.py.\n",
    "    mask: A binary array, True (1's) denote where to skip computing the loss.\n",
    "    grad_fn: A gradient function, which takes some parameters, a random seed,\n",
    "      the data to compute the gradient on, and an initial state for the\n",
    "      predictor. It returns the gradient of the parameters for this batch of\n",
    "      data, and extra values.\n",
    "    optimizer: An optax optimizer.\n",
    "    normalize_gradients: Whether to divide the gradients by the length of the\n",
    "      sequences, or keep them as is. Using this option guarantees to have the\n",
    "      same scale across various sequence lengths, and therefore tasks.\n",
    "  \"\"\"\n",
    "  loss, grad = grad_fn(params, sequences, mask)\n",
    "  if normalize_gradients:\n",
    "    length_sequence = float(sequences.shape[1])\n",
    "    grad = tree.map_structure(lambda x: x / length_sequence, grad)\n",
    "  updates, new_opt_state = optimizer.update(grad, opt_state)\n",
    "  new_params = optax.apply_updates(params, updates)\n",
    "\n",
    "  log_dict = {\n",
    "      'loss': loss,\n",
    "      'grad_norm_unclipped': optax.global_norm(grad),\n",
    "  }\n",
    "\n",
    "  return new_params, new_opt_state, log_dict"
   ]
  },
  {
   "cell_type": "code",
   "execution_count": 4,
   "metadata": {},
   "outputs": [],
   "source": [
    "def train_transformer_decoder(\n",
    "    data_generator: utm_dg_lib.UTMDataGenerator,\n",
    "    training_steps: int,\n",
    "    log_every: int,\n",
    "    batch_size: int,\n",
    "    use_tqdm: bool = True,\n",
    "    with_markov: bool = False,\n",
    "    size: str = \"large\",\n",
    "    eval_data_generator: chomsky_sampler_lib.ChomskyDataGenerator = None,\n",
    ") -> tuple[hk.Params, float, list[float], list[float], list[float]]:\n",
    "    \"\"\"Trains a neural network on some synthetic data.\n",
    "\n",
    "    We train a decoder-only transformer on batches, minimizing the log-loss\n",
    "    objective. The exact architecture can be modified using the TransformerConfig\n",
    "    object (defined in models/transformer.py)\n",
    "\n",
    "    Args:\n",
    "      data_generator: Used to generate batches of data to train on.\n",
    "      training_steps: Number of batches to train on.\n",
    "      log_every: How often to log the loss. If negative or 0, no log at all.\n",
    "      batch_size: The number of sequences in a batch.\n",
    "      use_tqdm: Whether to use a progress bar or not.\n",
    "\n",
    "    Returns:\n",
    "      The final loss, and final parameters.\n",
    "    \"\"\"\n",
    "    print(\"Vocab Size:\", data_generator.feature_size)\n",
    "    print(\"Model Size:\", size)\n",
    "    print(\"Batch Size:\", batch_size)\n",
    "    print(\"With Markov:\", with_markov)\n",
    "    model = make_model(data_generator, size)\n",
    "\n",
    "    params = init_params(model, data_generator, batch_size)\n",
    "\n",
    "    # Make gradient function.\n",
    "    loss_fn = _make_loss_fn(model)\n",
    "    grad_fn = jax.value_and_grad(loss_fn, has_aux=False)\n",
    "\n",
    "    # Make optimizer, to apply the gradients.\n",
    "    optimizer = optax.adam(learning_rate=1e-4)\n",
    "    opt_state = optimizer.init(params)\n",
    "\n",
    "    logging.info(\"Initialization done, starting training...\")\n",
    "    \n",
    "    last_loss = 0.0\n",
    "    default_mask = lambda x: np.ones(x.shape[:2], dtype=bool)\n",
    "    eval_losses = []\n",
    "    eval_accs = []\n",
    "    eval_final_accs = []\n",
    "\n",
    "    for step in tqdm.trange(training_steps, disable=not use_tqdm):\n",
    "        batch, log_dict = data_generator.sample(with_markov=with_markov)\n",
    "        # Transform one-hots to integer tokens.\n",
    "        batch = np.argmax(batch, axis=-1)\n",
    "        if \"loss_mask\" in log_dict:\n",
    "            loss_mask = log_dict[\"loss_mask\"]\n",
    "        else:\n",
    "            loss_mask = default_mask(batch)\n",
    "\n",
    "        params, opt_state, logs = _update_parameters(\n",
    "            params=params,\n",
    "            opt_state=opt_state,\n",
    "            sequences=batch,\n",
    "            grad_fn=grad_fn,\n",
    "            optimizer=optimizer,\n",
    "            mask=loss_mask,\n",
    "        )\n",
    "        \n",
    "        if log_every > 0 and step % log_every == 0:\n",
    "            logging.info(\n",
    "                \"Step %d, Loss (avg cumulative nats) %f, Grad norm %f\",\n",
    "                step,\n",
    "                logs[\"loss\"],\n",
    "                logs[\"grad_norm_unclipped\"],\n",
    "            )\n",
    "        \n",
    "        if step % (log_every * 10) == 0 and eval_data_generator is not None:\n",
    "            last_loss = logs[\"loss\"]\n",
    "            eval_loss, eval_acc, eval_final_acc = evaluate_transformer_decoder(\n",
    "                eval_data_generator, params, data_generator, size=size\n",
    "            )\n",
    "            eval_losses.append(eval_loss)\n",
    "            eval_accs.append(eval_acc)\n",
    "            eval_final_accs.append(eval_final_acc)\n",
    "            print(\n",
    "                f\"Step {step}, Eval acc: {eval_acc}, Eval final acc: {eval_final_acc}\"\n",
    "            )\n",
    "\n",
    "    return params, last_loss, eval_losses, eval_accs, eval_final_accs"
   ]
  },
  {
   "cell_type": "code",
   "execution_count": 11,
   "metadata": {},
   "outputs": [
    {
     "name": "stdout",
     "output_type": "stream",
     "text": [
      "Vocab Size: 128\n",
      "Model Size: small\n",
      "Batch Size: 32\n",
      "With Markov: True\n"
     ]
    },
    {
     "name": "stderr",
     "output_type": "stream",
     "text": [
      "  0%|          | 0/2000 [00:00<?, ?it/s]"
     ]
    },
    {
     "name": "stdout",
     "output_type": "stream",
     "text": [
      "Chomsky Task:  even_pairs\n"
     ]
    },
    {
     "name": "stderr",
     "output_type": "stream",
     "text": [
      "  0%|          | 4/2000 [00:06<40:50,  1.23s/it]  "
     ]
    },
    {
     "name": "stdout",
     "output_type": "stream",
     "text": [
      "Step 0, Eval acc: 0.007958902046084404, Eval final acc: 0.007958405651152134\n"
     ]
    },
    {
     "name": "stderr",
     "output_type": "stream",
     "text": [
      "  5%|▌         | 100/2000 [00:10<01:12, 26.17it/s]"
     ]
    },
    {
     "name": "stdout",
     "output_type": "stream",
     "text": [
      "Chomsky Task:  even_pairs\n"
     ]
    },
    {
     "name": "stderr",
     "output_type": "stream",
     "text": [
      "  5%|▌         | 106/2000 [00:13<08:00,  3.94it/s]"
     ]
    },
    {
     "name": "stdout",
     "output_type": "stream",
     "text": [
      "Step 100, Eval acc: 0.01636669784784317, Eval final acc: 0.016366617754101753\n"
     ]
    },
    {
     "name": "stderr",
     "output_type": "stream",
     "text": [
      " 10%|▉         | 199/2000 [00:17<01:08, 26.32it/s]"
     ]
    },
    {
     "name": "stdout",
     "output_type": "stream",
     "text": [
      "Chomsky Task:  even_pairs\n"
     ]
    },
    {
     "name": "stderr",
     "output_type": "stream",
     "text": [
      " 10%|█         | 205/2000 [00:20<07:18,  4.09it/s]"
     ]
    },
    {
     "name": "stdout",
     "output_type": "stream",
     "text": [
      "Step 200, Eval acc: 0.02849704399704933, Eval final acc: 0.028496259823441505\n"
     ]
    },
    {
     "name": "stderr",
     "output_type": "stream",
     "text": [
      " 15%|█▍        | 298/2000 [00:23<01:03, 26.62it/s]"
     ]
    },
    {
     "name": "stdout",
     "output_type": "stream",
     "text": [
      "Chomsky Task:  even_pairs\n"
     ]
    },
    {
     "name": "stderr",
     "output_type": "stream",
     "text": [
      " 15%|█▌        | 304/2000 [00:26<05:08,  5.49it/s]"
     ]
    },
    {
     "name": "stdout",
     "output_type": "stream",
     "text": [
      "Step 300, Eval acc: 0.040885526686906815, Eval final acc: 0.04088742285966873\n"
     ]
    },
    {
     "name": "stderr",
     "output_type": "stream",
     "text": [
      " 20%|██        | 400/2000 [00:29<00:59, 26.96it/s]"
     ]
    },
    {
     "name": "stdout",
     "output_type": "stream",
     "text": [
      "Chomsky Task:  even_pairs\n"
     ]
    },
    {
     "name": "stderr",
     "output_type": "stream",
     "text": [
      " 20%|██        | 406/2000 [00:32<05:07,  5.19it/s]"
     ]
    },
    {
     "name": "stdout",
     "output_type": "stream",
     "text": [
      "Step 400, Eval acc: 0.056422971189022064, Eval final acc: 0.05642212554812431\n"
     ]
    },
    {
     "name": "stderr",
     "output_type": "stream",
     "text": [
      " 25%|██▍       | 499/2000 [00:35<00:58, 25.48it/s]"
     ]
    },
    {
     "name": "stdout",
     "output_type": "stream",
     "text": [
      "Chomsky Task:  even_pairs\n"
     ]
    },
    {
     "name": "stderr",
     "output_type": "stream",
     "text": [
      " 25%|██▌       | 505/2000 [00:38<04:29,  5.54it/s]"
     ]
    },
    {
     "name": "stdout",
     "output_type": "stream",
     "text": [
      "Step 500, Eval acc: 0.07645846158266068, Eval final acc: 0.07645781338214874\n"
     ]
    },
    {
     "name": "stderr",
     "output_type": "stream",
     "text": [
      " 30%|██▉       | 598/2000 [00:41<00:59, 23.69it/s]"
     ]
    },
    {
     "name": "stdout",
     "output_type": "stream",
     "text": [
      "Chomsky Task:  even_pairs\n"
     ]
    },
    {
     "name": "stderr",
     "output_type": "stream",
     "text": [
      " 30%|███       | 604/2000 [00:43<03:37,  6.42it/s]"
     ]
    },
    {
     "name": "stdout",
     "output_type": "stream",
     "text": [
      "Step 600, Eval acc: 0.10110951960086823, Eval final acc: 0.10110883414745331\n"
     ]
    },
    {
     "name": "stderr",
     "output_type": "stream",
     "text": [
      " 35%|███▌      | 700/2000 [00:47<00:50, 25.92it/s]"
     ]
    },
    {
     "name": "stdout",
     "output_type": "stream",
     "text": [
      "Chomsky Task:  even_pairs\n"
     ]
    },
    {
     "name": "stderr",
     "output_type": "stream",
     "text": [
      " 35%|███▌      | 706/2000 [00:50<04:53,  4.42it/s]"
     ]
    },
    {
     "name": "stdout",
     "output_type": "stream",
     "text": [
      "Step 700, Eval acc: 0.13346965610980988, Eval final acc: 0.13349561393260956\n"
     ]
    },
    {
     "name": "stderr",
     "output_type": "stream",
     "text": [
      " 40%|███▉      | 799/2000 [00:54<00:47, 25.30it/s]"
     ]
    },
    {
     "name": "stdout",
     "output_type": "stream",
     "text": [
      "Chomsky Task:  even_pairs\n"
     ]
    },
    {
     "name": "stderr",
     "output_type": "stream",
     "text": [
      " 40%|████      | 805/2000 [00:56<03:13,  6.18it/s]"
     ]
    },
    {
     "name": "stdout",
     "output_type": "stream",
     "text": [
      "Step 800, Eval acc: 0.16318237781524658, Eval final acc: 0.16315510869026184\n"
     ]
    },
    {
     "name": "stderr",
     "output_type": "stream",
     "text": [
      " 45%|████▍     | 898/2000 [00:59<00:47, 22.97it/s]"
     ]
    },
    {
     "name": "stdout",
     "output_type": "stream",
     "text": [
      "Chomsky Task:  even_pairs\n"
     ]
    },
    {
     "name": "stderr",
     "output_type": "stream",
     "text": [
      " 45%|████▌     | 903/2000 [01:01<02:54,  6.29it/s]"
     ]
    },
    {
     "name": "stdout",
     "output_type": "stream",
     "text": [
      "Step 900, Eval acc: 0.1966998130083084, Eval final acc: 0.19666343927383423\n"
     ]
    },
    {
     "name": "stderr",
     "output_type": "stream",
     "text": [
      " 50%|████▉     | 999/2000 [01:05<00:38, 25.67it/s]"
     ]
    },
    {
     "name": "stdout",
     "output_type": "stream",
     "text": [
      "Chomsky Task:  even_pairs\n"
     ]
    },
    {
     "name": "stderr",
     "output_type": "stream",
     "text": [
      " 50%|█████     | 1005/2000 [01:07<02:13,  7.47it/s]"
     ]
    },
    {
     "name": "stdout",
     "output_type": "stream",
     "text": [
      "Step 1000, Eval acc: 0.22849054634571075, Eval final acc: 0.22846587002277374\n"
     ]
    },
    {
     "name": "stderr",
     "output_type": "stream",
     "text": [
      " 55%|█████▍    | 1098/2000 [01:10<00:39, 22.86it/s]"
     ]
    },
    {
     "name": "stdout",
     "output_type": "stream",
     "text": [
      "Chomsky Task:  even_pairs\n"
     ]
    },
    {
     "name": "stderr",
     "output_type": "stream",
     "text": [
      " 55%|█████▌    | 1104/2000 [01:13<02:53,  5.17it/s]"
     ]
    },
    {
     "name": "stdout",
     "output_type": "stream",
     "text": [
      "Step 1100, Eval acc: 0.2546849846839905, Eval final acc: 0.2546969950199127\n"
     ]
    },
    {
     "name": "stderr",
     "output_type": "stream",
     "text": [
      " 60%|██████    | 1200/2000 [01:16<00:32, 24.81it/s]"
     ]
    },
    {
     "name": "stdout",
     "output_type": "stream",
     "text": [
      "Chomsky Task:  even_pairs\n"
     ]
    },
    {
     "name": "stderr",
     "output_type": "stream",
     "text": [
      " 60%|██████    | 1206/2000 [01:18<01:51,  7.10it/s]"
     ]
    },
    {
     "name": "stdout",
     "output_type": "stream",
     "text": [
      "Step 1200, Eval acc: 0.27089476585388184, Eval final acc: 0.27090197801589966\n"
     ]
    },
    {
     "name": "stderr",
     "output_type": "stream",
     "text": [
      " 65%|██████▍   | 1299/2000 [01:22<00:32, 21.38it/s]"
     ]
    },
    {
     "name": "stdout",
     "output_type": "stream",
     "text": [
      "Chomsky Task:  even_pairs\n"
     ]
    },
    {
     "name": "stderr",
     "output_type": "stream",
     "text": [
      " 65%|██████▌   | 1305/2000 [01:23<01:12,  9.62it/s]"
     ]
    },
    {
     "name": "stdout",
     "output_type": "stream",
     "text": [
      "Step 1300, Eval acc: 0.2901690900325775, Eval final acc: 0.29018282890319824\n"
     ]
    },
    {
     "name": "stderr",
     "output_type": "stream",
     "text": [
      " 70%|██████▉   | 1398/2000 [01:27<00:22, 26.28it/s]"
     ]
    },
    {
     "name": "stdout",
     "output_type": "stream",
     "text": [
      "Chomsky Task:  even_pairs\n"
     ]
    },
    {
     "name": "stderr",
     "output_type": "stream",
     "text": [
      " 70%|███████   | 1404/2000 [01:28<01:05,  9.15it/s]"
     ]
    },
    {
     "name": "stdout",
     "output_type": "stream",
     "text": [
      "Step 1400, Eval acc: 0.3093836009502411, Eval final acc: 0.31167200207710266\n"
     ]
    },
    {
     "name": "stderr",
     "output_type": "stream",
     "text": [
      " 75%|███████▌  | 1500/2000 [01:32<00:19, 25.41it/s]"
     ]
    },
    {
     "name": "stdout",
     "output_type": "stream",
     "text": [
      "Chomsky Task:  even_pairs\n"
     ]
    },
    {
     "name": "stderr",
     "output_type": "stream",
     "text": [
      " 75%|███████▌  | 1503/2000 [01:33<01:04,  7.66it/s]"
     ]
    },
    {
     "name": "stdout",
     "output_type": "stream",
     "text": [
      "Step 1500, Eval acc: 0.3167768716812134, Eval final acc: 0.31671327352523804\n"
     ]
    },
    {
     "name": "stderr",
     "output_type": "stream",
     "text": [
      " 80%|███████▉  | 1598/2000 [01:36<00:16, 25.02it/s]"
     ]
    },
    {
     "name": "stdout",
     "output_type": "stream",
     "text": [
      "Chomsky Task:  even_pairs\n"
     ]
    },
    {
     "name": "stderr",
     "output_type": "stream",
     "text": [
      " 80%|████████  | 1604/2000 [01:38<00:42,  9.34it/s]"
     ]
    },
    {
     "name": "stdout",
     "output_type": "stream",
     "text": [
      "Step 1600, Eval acc: 0.33109691739082336, Eval final acc: 0.3310949206352234\n"
     ]
    },
    {
     "name": "stderr",
     "output_type": "stream",
     "text": [
      " 85%|████████▌ | 1700/2000 [01:41<00:11, 25.31it/s]"
     ]
    },
    {
     "name": "stdout",
     "output_type": "stream",
     "text": [
      "Chomsky Task:  even_pairs\n"
     ]
    },
    {
     "name": "stderr",
     "output_type": "stream",
     "text": [
      " 85%|████████▌ | 1706/2000 [01:43<00:38,  7.60it/s]"
     ]
    },
    {
     "name": "stdout",
     "output_type": "stream",
     "text": [
      "Step 1700, Eval acc: 0.335883766412735, Eval final acc: 0.3358166813850403\n"
     ]
    },
    {
     "name": "stderr",
     "output_type": "stream",
     "text": [
      " 90%|████████▉ | 1799/2000 [01:47<00:08, 23.01it/s]"
     ]
    },
    {
     "name": "stdout",
     "output_type": "stream",
     "text": [
      "Chomsky Task:  even_pairs\n"
     ]
    },
    {
     "name": "stderr",
     "output_type": "stream",
     "text": [
      " 90%|█████████ | 1805/2000 [01:48<00:20,  9.30it/s]"
     ]
    },
    {
     "name": "stdout",
     "output_type": "stream",
     "text": [
      "Step 1800, Eval acc: 0.35400864481925964, Eval final acc: 0.3539075553417206\n"
     ]
    },
    {
     "name": "stderr",
     "output_type": "stream",
     "text": [
      " 95%|█████████▍| 1898/2000 [01:52<00:04, 22.28it/s]"
     ]
    },
    {
     "name": "stdout",
     "output_type": "stream",
     "text": [
      "Chomsky Task:  even_pairs\n"
     ]
    },
    {
     "name": "stderr",
     "output_type": "stream",
     "text": [
      " 95%|█████████▌| 1904/2000 [01:54<00:14,  6.79it/s]"
     ]
    },
    {
     "name": "stdout",
     "output_type": "stream",
     "text": [
      "Step 1900, Eval acc: 0.3603024482727051, Eval final acc: 0.36032363772392273\n"
     ]
    },
    {
     "name": "stderr",
     "output_type": "stream",
     "text": [
      "100%|██████████| 2000/2000 [01:57<00:00, 16.95it/s]\n"
     ]
    },
    {
     "name": "stdout",
     "output_type": "stream",
     "text": [
      "Vocab Size: 128\n",
      "Model Size: medium\n",
      "Batch Size: 32\n",
      "With Markov: True\n"
     ]
    },
    {
     "name": "stderr",
     "output_type": "stream",
     "text": [
      "  0%|          | 0/2000 [00:00<?, ?it/s]"
     ]
    },
    {
     "name": "stdout",
     "output_type": "stream",
     "text": [
      "Chomsky Task:  even_pairs\n"
     ]
    },
    {
     "name": "stderr",
     "output_type": "stream",
     "text": [
      "  0%|          | 3/2000 [00:06<53:33,  1.61s/it]  "
     ]
    },
    {
     "name": "stdout",
     "output_type": "stream",
     "text": [
      "Step 0, Eval acc: 0.01046818122267723, Eval final acc: 0.01043485477566719\n"
     ]
    },
    {
     "name": "stderr",
     "output_type": "stream",
     "text": [
      "  5%|▌         | 100/2000 [00:28<07:51,  4.03it/s]"
     ]
    },
    {
     "name": "stdout",
     "output_type": "stream",
     "text": [
      "Chomsky Task:  even_pairs\n"
     ]
    },
    {
     "name": "stderr",
     "output_type": "stream",
     "text": [
      "  5%|▌         | 104/2000 [00:32<18:44,  1.69it/s]"
     ]
    },
    {
     "name": "stdout",
     "output_type": "stream",
     "text": [
      "Step 100, Eval acc: 0.22034886479377747, Eval final acc: 0.218496173620224\n"
     ]
    },
    {
     "name": "stderr",
     "output_type": "stream",
     "text": [
      " 10%|█         | 200/2000 [00:54<06:43,  4.46it/s]"
     ]
    },
    {
     "name": "stdout",
     "output_type": "stream",
     "text": [
      "Chomsky Task:  even_pairs\n"
     ]
    },
    {
     "name": "stderr",
     "output_type": "stream",
     "text": [
      " 10%|█         | 204/2000 [00:58<17:09,  1.75it/s]"
     ]
    },
    {
     "name": "stdout",
     "output_type": "stream",
     "text": [
      "Step 200, Eval acc: 0.31026580929756165, Eval final acc: 0.31105977296829224\n"
     ]
    },
    {
     "name": "stderr",
     "output_type": "stream",
     "text": [
      " 15%|█▌        | 300/2000 [01:20<06:40,  4.24it/s]"
     ]
    },
    {
     "name": "stdout",
     "output_type": "stream",
     "text": [
      "Chomsky Task:  even_pairs\n"
     ]
    },
    {
     "name": "stderr",
     "output_type": "stream",
     "text": [
      " 15%|█▌        | 304/2000 [01:24<15:20,  1.84it/s]"
     ]
    },
    {
     "name": "stdout",
     "output_type": "stream",
     "text": [
      "Step 300, Eval acc: 0.3564973771572113, Eval final acc: 0.3564954996109009\n"
     ]
    },
    {
     "name": "stderr",
     "output_type": "stream",
     "text": [
      " 20%|██        | 400/2000 [01:45<06:09,  4.33it/s]"
     ]
    },
    {
     "name": "stdout",
     "output_type": "stream",
     "text": [
      "Chomsky Task:  even_pairs\n"
     ]
    },
    {
     "name": "stderr",
     "output_type": "stream",
     "text": [
      " 20%|██        | 404/2000 [01:49<14:30,  1.83it/s]"
     ]
    },
    {
     "name": "stdout",
     "output_type": "stream",
     "text": [
      "Step 400, Eval acc: 0.3968147933483124, Eval final acc: 0.39681917428970337\n"
     ]
    },
    {
     "name": "stderr",
     "output_type": "stream",
     "text": [
      " 25%|██▌       | 500/2000 [02:11<05:49,  4.30it/s]"
     ]
    },
    {
     "name": "stdout",
     "output_type": "stream",
     "text": [
      "Chomsky Task:  even_pairs\n"
     ]
    },
    {
     "name": "stderr",
     "output_type": "stream",
     "text": [
      " 25%|██▌       | 504/2000 [02:15<14:59,  1.66it/s]"
     ]
    },
    {
     "name": "stdout",
     "output_type": "stream",
     "text": [
      "Step 500, Eval acc: 0.41329818964004517, Eval final acc: 0.4132329523563385\n"
     ]
    },
    {
     "name": "stderr",
     "output_type": "stream",
     "text": [
      " 30%|███       | 600/2000 [02:37<06:10,  3.78it/s]"
     ]
    },
    {
     "name": "stdout",
     "output_type": "stream",
     "text": [
      "Chomsky Task:  even_pairs\n"
     ]
    },
    {
     "name": "stderr",
     "output_type": "stream",
     "text": [
      " 30%|███       | 604/2000 [02:41<13:59,  1.66it/s]"
     ]
    },
    {
     "name": "stdout",
     "output_type": "stream",
     "text": [
      "Step 600, Eval acc: 0.4275030195713043, Eval final acc: 0.42751413583755493\n"
     ]
    },
    {
     "name": "stderr",
     "output_type": "stream",
     "text": [
      " 35%|███▌      | 700/2000 [03:03<05:14,  4.13it/s]"
     ]
    },
    {
     "name": "stdout",
     "output_type": "stream",
     "text": [
      "Chomsky Task:  even_pairs\n"
     ]
    },
    {
     "name": "stderr",
     "output_type": "stream",
     "text": [
      " 35%|███▌      | 704/2000 [03:07<12:11,  1.77it/s]"
     ]
    },
    {
     "name": "stdout",
     "output_type": "stream",
     "text": [
      "Step 700, Eval acc: 0.4358794093132019, Eval final acc: 0.4358961582183838\n"
     ]
    },
    {
     "name": "stderr",
     "output_type": "stream",
     "text": [
      " 40%|████      | 800/2000 [03:29<04:27,  4.49it/s]"
     ]
    },
    {
     "name": "stdout",
     "output_type": "stream",
     "text": [
      "Chomsky Task:  even_pairs\n"
     ]
    },
    {
     "name": "stderr",
     "output_type": "stream",
     "text": [
      " 40%|████      | 803/2000 [03:32<13:13,  1.51it/s]"
     ]
    },
    {
     "name": "stdout",
     "output_type": "stream",
     "text": [
      "Step 800, Eval acc: 0.44898638129234314, Eval final acc: 0.44901242852211\n"
     ]
    },
    {
     "name": "stderr",
     "output_type": "stream",
     "text": [
      " 45%|████▌     | 900/2000 [03:54<04:17,  4.26it/s]"
     ]
    },
    {
     "name": "stdout",
     "output_type": "stream",
     "text": [
      "Chomsky Task:  even_pairs\n"
     ]
    },
    {
     "name": "stderr",
     "output_type": "stream",
     "text": [
      " 45%|████▌     | 903/2000 [03:58<12:27,  1.47it/s]"
     ]
    },
    {
     "name": "stdout",
     "output_type": "stream",
     "text": [
      "Step 900, Eval acc: 0.4449065327644348, Eval final acc: 0.4448942244052887\n"
     ]
    },
    {
     "name": "stderr",
     "output_type": "stream",
     "text": [
      " 50%|█████     | 1000/2000 [04:20<04:07,  4.04it/s]"
     ]
    },
    {
     "name": "stdout",
     "output_type": "stream",
     "text": [
      "Chomsky Task:  even_pairs\n"
     ]
    },
    {
     "name": "stderr",
     "output_type": "stream",
     "text": [
      " 50%|█████     | 1004/2000 [04:39<43:23,  2.61s/it]  "
     ]
    },
    {
     "name": "stdout",
     "output_type": "stream",
     "text": [
      "Step 1000, Eval acc: 0.45243018865585327, Eval final acc: 0.4524269998073578\n"
     ]
    },
    {
     "name": "stderr",
     "output_type": "stream",
     "text": [
      " 55%|█████▌    | 1100/2000 [05:02<03:24,  4.41it/s]"
     ]
    },
    {
     "name": "stdout",
     "output_type": "stream",
     "text": [
      "Chomsky Task:  even_pairs\n"
     ]
    },
    {
     "name": "stderr",
     "output_type": "stream",
     "text": [
      " 55%|█████▌    | 1104/2000 [05:05<07:35,  1.97it/s]"
     ]
    },
    {
     "name": "stdout",
     "output_type": "stream",
     "text": [
      "Step 1100, Eval acc: 0.45805415511131287, Eval final acc: 0.4580756723880768\n"
     ]
    },
    {
     "name": "stderr",
     "output_type": "stream",
     "text": [
      " 60%|██████    | 1200/2000 [05:26<03:05,  4.30it/s]"
     ]
    },
    {
     "name": "stdout",
     "output_type": "stream",
     "text": [
      "Chomsky Task:  even_pairs\n"
     ]
    },
    {
     "name": "stderr",
     "output_type": "stream",
     "text": [
      " 60%|██████    | 1204/2000 [05:30<07:23,  1.79it/s]"
     ]
    },
    {
     "name": "stdout",
     "output_type": "stream",
     "text": [
      "Step 1200, Eval acc: 0.46260109543800354, Eval final acc: 0.46267908811569214\n"
     ]
    },
    {
     "name": "stderr",
     "output_type": "stream",
     "text": [
      " 65%|██████▌   | 1300/2000 [05:51<02:36,  4.48it/s]"
     ]
    },
    {
     "name": "stdout",
     "output_type": "stream",
     "text": [
      "Chomsky Task:  even_pairs\n"
     ]
    },
    {
     "name": "stderr",
     "output_type": "stream",
     "text": [
      " 65%|██████▌   | 1303/2000 [05:54<07:13,  1.61it/s]"
     ]
    },
    {
     "name": "stdout",
     "output_type": "stream",
     "text": [
      "Step 1300, Eval acc: 0.46420541405677795, Eval final acc: 0.46420708298683167\n"
     ]
    },
    {
     "name": "stderr",
     "output_type": "stream",
     "text": [
      " 70%|███████   | 1400/2000 [06:16<02:19,  4.30it/s]"
     ]
    },
    {
     "name": "stdout",
     "output_type": "stream",
     "text": [
      "Chomsky Task:  even_pairs\n"
     ]
    },
    {
     "name": "stderr",
     "output_type": "stream",
     "text": [
      " 70%|███████   | 1404/2000 [06:20<05:26,  1.82it/s]"
     ]
    },
    {
     "name": "stdout",
     "output_type": "stream",
     "text": [
      "Step 1400, Eval acc: 0.46998634934425354, Eval final acc: 0.469992071390152\n"
     ]
    },
    {
     "name": "stderr",
     "output_type": "stream",
     "text": [
      " 75%|███████▌  | 1500/2000 [06:41<01:56,  4.30it/s]"
     ]
    },
    {
     "name": "stdout",
     "output_type": "stream",
     "text": [
      "Chomsky Task:  even_pairs\n"
     ]
    },
    {
     "name": "stderr",
     "output_type": "stream",
     "text": [
      " 75%|███████▌  | 1504/2000 [06:45<04:32,  1.82it/s]"
     ]
    },
    {
     "name": "stdout",
     "output_type": "stream",
     "text": [
      "Step 1500, Eval acc: 0.46396350860595703, Eval final acc: 0.46398186683654785\n"
     ]
    },
    {
     "name": "stderr",
     "output_type": "stream",
     "text": [
      " 80%|████████  | 1600/2000 [07:07<01:38,  4.07it/s]"
     ]
    },
    {
     "name": "stdout",
     "output_type": "stream",
     "text": [
      "Chomsky Task:  even_pairs\n"
     ]
    },
    {
     "name": "stderr",
     "output_type": "stream",
     "text": [
      " 80%|████████  | 1604/2000 [07:10<03:44,  1.77it/s]"
     ]
    },
    {
     "name": "stdout",
     "output_type": "stream",
     "text": [
      "Step 1600, Eval acc: 0.45913347601890564, Eval final acc: 0.4590676724910736\n"
     ]
    },
    {
     "name": "stderr",
     "output_type": "stream",
     "text": [
      " 85%|████████▌ | 1700/2000 [07:33<01:08,  4.38it/s]"
     ]
    },
    {
     "name": "stdout",
     "output_type": "stream",
     "text": [
      "Chomsky Task:  even_pairs\n"
     ]
    },
    {
     "name": "stderr",
     "output_type": "stream",
     "text": [
      " 85%|████████▌ | 1704/2000 [07:36<02:35,  1.90it/s]"
     ]
    },
    {
     "name": "stdout",
     "output_type": "stream",
     "text": [
      "Step 1700, Eval acc: 0.4729768633842468, Eval final acc: 0.4729904234409332\n"
     ]
    },
    {
     "name": "stderr",
     "output_type": "stream",
     "text": [
      " 90%|█████████ | 1800/2000 [07:57<00:45,  4.44it/s]"
     ]
    },
    {
     "name": "stdout",
     "output_type": "stream",
     "text": [
      "Chomsky Task:  even_pairs\n"
     ]
    },
    {
     "name": "stderr",
     "output_type": "stream",
     "text": [
      " 90%|█████████ | 1804/2000 [08:00<01:39,  1.96it/s]"
     ]
    },
    {
     "name": "stdout",
     "output_type": "stream",
     "text": [
      "Step 1800, Eval acc: 0.4673359990119934, Eval final acc: 0.4673217833042145\n"
     ]
    },
    {
     "name": "stderr",
     "output_type": "stream",
     "text": [
      " 95%|█████████▌| 1900/2000 [08:22<00:22,  4.38it/s]"
     ]
    },
    {
     "name": "stdout",
     "output_type": "stream",
     "text": [
      "Chomsky Task:  even_pairs\n"
     ]
    },
    {
     "name": "stderr",
     "output_type": "stream",
     "text": [
      " 95%|█████████▌| 1904/2000 [08:25<00:49,  1.96it/s]"
     ]
    },
    {
     "name": "stdout",
     "output_type": "stream",
     "text": [
      "Step 1900, Eval acc: 0.4664842486381531, Eval final acc: 0.4664286971092224\n"
     ]
    },
    {
     "name": "stderr",
     "output_type": "stream",
     "text": [
      "100%|██████████| 2000/2000 [08:47<00:00,  3.79it/s]\n"
     ]
    },
    {
     "name": "stdout",
     "output_type": "stream",
     "text": [
      "Vocab Size: 128\n",
      "Model Size: large\n",
      "Batch Size: 32\n",
      "With Markov: True\n"
     ]
    },
    {
     "name": "stderr",
     "output_type": "stream",
     "text": [
      "  0%|          | 0/2000 [00:00<?, ?it/s]"
     ]
    },
    {
     "name": "stdout",
     "output_type": "stream",
     "text": [
      "Chomsky Task:  even_pairs\n"
     ]
    },
    {
     "name": "stderr",
     "output_type": "stream",
     "text": [
      "  0%|          | 4/2000 [00:10<1:04:35,  1.94s/it]"
     ]
    },
    {
     "name": "stdout",
     "output_type": "stream",
     "text": [
      "Step 0, Eval acc: 0.038628801703453064, Eval final acc: 0.038620077073574066\n"
     ]
    },
    {
     "name": "stderr",
     "output_type": "stream",
     "text": [
      "  5%|▌         | 100/2000 [01:41<30:27,  1.04it/s]"
     ]
    },
    {
     "name": "stdout",
     "output_type": "stream",
     "text": [
      "Chomsky Task:  even_pairs\n"
     ]
    },
    {
     "name": "stderr",
     "output_type": "stream",
     "text": [
      "  5%|▌         | 104/2000 [01:53<1:00:45,  1.92s/it]"
     ]
    },
    {
     "name": "stdout",
     "output_type": "stream",
     "text": [
      "Step 100, Eval acc: 0.45471954345703125, Eval final acc: 0.4547271728515625\n"
     ]
    },
    {
     "name": "stderr",
     "output_type": "stream",
     "text": [
      " 10%|█         | 200/2000 [04:07<37:22,  1.25s/it]  "
     ]
    },
    {
     "name": "stdout",
     "output_type": "stream",
     "text": [
      "Chomsky Task:  even_pairs\n"
     ]
    },
    {
     "name": "stderr",
     "output_type": "stream",
     "text": [
      " 10%|█         | 204/2000 [04:24<1:18:55,  2.64s/it]"
     ]
    },
    {
     "name": "stdout",
     "output_type": "stream",
     "text": [
      "Step 200, Eval acc: 0.4707615375518799, Eval final acc: 0.4707808494567871\n"
     ]
    },
    {
     "name": "stderr",
     "output_type": "stream",
     "text": [
      " 15%|█▌        | 300/2000 [05:59<26:33,  1.07it/s]  "
     ]
    },
    {
     "name": "stdout",
     "output_type": "stream",
     "text": [
      "Chomsky Task:  even_pairs\n"
     ]
    },
    {
     "name": "stderr",
     "output_type": "stream",
     "text": [
      " 15%|█▌        | 304/2000 [06:11<53:01,  1.88s/it]  "
     ]
    },
    {
     "name": "stdout",
     "output_type": "stream",
     "text": [
      "Step 300, Eval acc: 0.47670355439186096, Eval final acc: 0.476762056350708\n"
     ]
    },
    {
     "name": "stderr",
     "output_type": "stream",
     "text": [
      " 20%|██        | 400/2000 [07:53<24:15,  1.10it/s]  "
     ]
    },
    {
     "name": "stdout",
     "output_type": "stream",
     "text": [
      "Chomsky Task:  even_pairs\n"
     ]
    },
    {
     "name": "stderr",
     "output_type": "stream",
     "text": [
      " 20%|██        | 404/2000 [08:05<47:45,  1.80s/it]  "
     ]
    },
    {
     "name": "stdout",
     "output_type": "stream",
     "text": [
      "Step 400, Eval acc: 0.47783446311950684, Eval final acc: 0.4777982831001282\n"
     ]
    },
    {
     "name": "stderr",
     "output_type": "stream",
     "text": [
      " 25%|██▌       | 500/2000 [09:33<30:27,  1.22s/it]"
     ]
    },
    {
     "name": "stdout",
     "output_type": "stream",
     "text": [
      "Chomsky Task:  even_pairs\n"
     ]
    },
    {
     "name": "stderr",
     "output_type": "stream",
     "text": [
      " 25%|██▌       | 503/2000 [09:46<1:02:04,  2.49s/it]"
     ]
    },
    {
     "name": "stdout",
     "output_type": "stream",
     "text": [
      "Step 500, Eval acc: 0.47912994027137756, Eval final acc: 0.4791753888130188\n"
     ]
    },
    {
     "name": "stderr",
     "output_type": "stream",
     "text": [
      " 30%|███       | 600/2000 [11:17<22:18,  1.05it/s]  "
     ]
    },
    {
     "name": "stdout",
     "output_type": "stream",
     "text": [
      "Chomsky Task:  even_pairs\n"
     ]
    },
    {
     "name": "stderr",
     "output_type": "stream",
     "text": [
      " 30%|███       | 604/2000 [11:30<45:21,  1.95s/it]  "
     ]
    },
    {
     "name": "stdout",
     "output_type": "stream",
     "text": [
      "Step 600, Eval acc: 0.48145729303359985, Eval final acc: 0.48144450783729553\n"
     ]
    },
    {
     "name": "stderr",
     "output_type": "stream",
     "text": [
      " 35%|███▌      | 700/2000 [13:00<20:53,  1.04it/s]"
     ]
    },
    {
     "name": "stdout",
     "output_type": "stream",
     "text": [
      "Chomsky Task:  even_pairs\n"
     ]
    },
    {
     "name": "stderr",
     "output_type": "stream",
     "text": [
      " 35%|███▌      | 704/2000 [13:12<40:53,  1.89s/it]  "
     ]
    },
    {
     "name": "stdout",
     "output_type": "stream",
     "text": [
      "Step 700, Eval acc: 0.4858711361885071, Eval final acc: 0.4859001040458679\n"
     ]
    },
    {
     "name": "stderr",
     "output_type": "stream",
     "text": [
      " 40%|████      | 800/2000 [14:42<19:12,  1.04it/s]"
     ]
    },
    {
     "name": "stdout",
     "output_type": "stream",
     "text": [
      "Chomsky Task:  even_pairs\n"
     ]
    },
    {
     "name": "stderr",
     "output_type": "stream",
     "text": [
      " 40%|████      | 804/2000 [14:54<38:03,  1.91s/it]  "
     ]
    },
    {
     "name": "stdout",
     "output_type": "stream",
     "text": [
      "Step 800, Eval acc: 0.48320847749710083, Eval final acc: 0.4831902086734772\n"
     ]
    },
    {
     "name": "stderr",
     "output_type": "stream",
     "text": [
      " 45%|████▌     | 900/2000 [16:23<17:47,  1.03it/s]"
     ]
    },
    {
     "name": "stdout",
     "output_type": "stream",
     "text": [
      "Chomsky Task:  even_pairs\n"
     ]
    },
    {
     "name": "stderr",
     "output_type": "stream",
     "text": [
      " 45%|████▌     | 904/2000 [16:35<34:37,  1.90s/it]  "
     ]
    },
    {
     "name": "stdout",
     "output_type": "stream",
     "text": [
      "Step 900, Eval acc: 0.4858960211277008, Eval final acc: 0.4860699772834778\n"
     ]
    },
    {
     "name": "stderr",
     "output_type": "stream",
     "text": [
      " 50%|█████     | 1000/2000 [18:07<16:01,  1.04it/s]"
     ]
    },
    {
     "name": "stdout",
     "output_type": "stream",
     "text": [
      "Chomsky Task:  even_pairs\n"
     ]
    },
    {
     "name": "stderr",
     "output_type": "stream",
     "text": [
      " 50%|█████     | 1004/2000 [18:19<30:30,  1.84s/it]  "
     ]
    },
    {
     "name": "stdout",
     "output_type": "stream",
     "text": [
      "Step 1000, Eval acc: 0.48407354950904846, Eval final acc: 0.48409825563430786\n"
     ]
    },
    {
     "name": "stderr",
     "output_type": "stream",
     "text": [
      " 55%|█████▌    | 1100/2000 [19:50<14:08,  1.06it/s]"
     ]
    },
    {
     "name": "stdout",
     "output_type": "stream",
     "text": [
      "Chomsky Task:  even_pairs\n"
     ]
    },
    {
     "name": "stderr",
     "output_type": "stream",
     "text": [
      " 55%|█████▌    | 1104/2000 [20:03<28:26,  1.90s/it]  "
     ]
    },
    {
     "name": "stdout",
     "output_type": "stream",
     "text": [
      "Step 1100, Eval acc: 0.4635477066040039, Eval final acc: 0.46357792615890503\n"
     ]
    },
    {
     "name": "stderr",
     "output_type": "stream",
     "text": [
      " 60%|██████    | 1200/2000 [21:51<16:57,  1.27s/it]"
     ]
    },
    {
     "name": "stdout",
     "output_type": "stream",
     "text": [
      "Chomsky Task:  even_pairs\n"
     ]
    },
    {
     "name": "stderr",
     "output_type": "stream",
     "text": [
      " 60%|██████    | 1204/2000 [22:08<33:47,  2.55s/it]  "
     ]
    },
    {
     "name": "stdout",
     "output_type": "stream",
     "text": [
      "Step 1200, Eval acc: 0.4770578444004059, Eval final acc: 0.4770139157772064\n"
     ]
    },
    {
     "name": "stderr",
     "output_type": "stream",
     "text": [
      " 65%|██████▌   | 1300/2000 [23:59<14:18,  1.23s/it]"
     ]
    },
    {
     "name": "stdout",
     "output_type": "stream",
     "text": [
      "Chomsky Task:  even_pairs\n"
     ]
    },
    {
     "name": "stderr",
     "output_type": "stream",
     "text": [
      " 65%|██████▌   | 1304/2000 [24:13<26:01,  2.24s/it]"
     ]
    },
    {
     "name": "stdout",
     "output_type": "stream",
     "text": [
      "Step 1300, Eval acc: 0.47410717606544495, Eval final acc: 0.4741422235965729\n"
     ]
    },
    {
     "name": "stderr",
     "output_type": "stream",
     "text": [
      " 70%|███████   | 1400/2000 [25:53<09:40,  1.03it/s]"
     ]
    },
    {
     "name": "stdout",
     "output_type": "stream",
     "text": [
      "Chomsky Task:  even_pairs\n"
     ]
    },
    {
     "name": "stderr",
     "output_type": "stream",
     "text": [
      " 70%|███████   | 1404/2000 [26:05<18:04,  1.82s/it]"
     ]
    },
    {
     "name": "stdout",
     "output_type": "stream",
     "text": [
      "Step 1400, Eval acc: 0.47567200660705566, Eval final acc: 0.4756760597229004\n"
     ]
    },
    {
     "name": "stderr",
     "output_type": "stream",
     "text": [
      " 75%|███████▌  | 1500/2000 [27:30<07:36,  1.09it/s]"
     ]
    },
    {
     "name": "stdout",
     "output_type": "stream",
     "text": [
      "Chomsky Task:  even_pairs\n"
     ]
    },
    {
     "name": "stderr",
     "output_type": "stream",
     "text": [
      " 75%|███████▌  | 1504/2000 [27:42<14:42,  1.78s/it]"
     ]
    },
    {
     "name": "stdout",
     "output_type": "stream",
     "text": [
      "Step 1500, Eval acc: 0.482139527797699, Eval final acc: 0.48211774230003357\n"
     ]
    },
    {
     "name": "stderr",
     "output_type": "stream",
     "text": [
      " 80%|████████  | 1600/2000 [29:07<06:00,  1.11it/s]"
     ]
    },
    {
     "name": "stdout",
     "output_type": "stream",
     "text": [
      "Chomsky Task:  even_pairs\n"
     ]
    },
    {
     "name": "stderr",
     "output_type": "stream",
     "text": [
      " 80%|████████  | 1604/2000 [29:18<11:56,  1.81s/it]"
     ]
    },
    {
     "name": "stdout",
     "output_type": "stream",
     "text": [
      "Step 1600, Eval acc: 0.47045761346817017, Eval final acc: 0.4735780656337738\n"
     ]
    },
    {
     "name": "stderr",
     "output_type": "stream",
     "text": [
      " 85%|████████▌ | 1700/2000 [30:44<04:31,  1.11it/s]"
     ]
    },
    {
     "name": "stdout",
     "output_type": "stream",
     "text": [
      "Chomsky Task:  even_pairs\n"
     ]
    },
    {
     "name": "stderr",
     "output_type": "stream",
     "text": [
      " 85%|████████▌ | 1704/2000 [30:55<08:46,  1.78s/it]"
     ]
    },
    {
     "name": "stdout",
     "output_type": "stream",
     "text": [
      "Step 1700, Eval acc: 0.4767988324165344, Eval final acc: 0.47688227891921997\n"
     ]
    },
    {
     "name": "stderr",
     "output_type": "stream",
     "text": [
      " 90%|█████████ | 1800/2000 [32:20<03:01,  1.10it/s]"
     ]
    },
    {
     "name": "stdout",
     "output_type": "stream",
     "text": [
      "Chomsky Task:  even_pairs\n"
     ]
    },
    {
     "name": "stderr",
     "output_type": "stream",
     "text": [
      " 90%|█████████ | 1804/2000 [32:31<05:49,  1.78s/it]"
     ]
    },
    {
     "name": "stdout",
     "output_type": "stream",
     "text": [
      "Step 1800, Eval acc: 0.48402658104896545, Eval final acc: 0.4840807020664215\n"
     ]
    },
    {
     "name": "stderr",
     "output_type": "stream",
     "text": [
      " 95%|█████████▌| 1900/2000 [33:56<01:29,  1.12it/s]"
     ]
    },
    {
     "name": "stdout",
     "output_type": "stream",
     "text": [
      "Chomsky Task:  even_pairs\n"
     ]
    },
    {
     "name": "stderr",
     "output_type": "stream",
     "text": [
      " 95%|█████████▌| 1904/2000 [34:07<02:49,  1.77s/it]"
     ]
    },
    {
     "name": "stdout",
     "output_type": "stream",
     "text": [
      "Step 1900, Eval acc: 0.4705963730812073, Eval final acc: 0.4704767167568207\n"
     ]
    },
    {
     "name": "stderr",
     "output_type": "stream",
     "text": [
      "100%|██████████| 2000/2000 [35:32<00:00,  1.07s/it]\n"
     ]
    }
   ],
   "source": [
    "rng = np.random.default_rng(seed=1)\n",
    "\n",
    "utm_generator = utm_data_generator(\n",
    "    rng,\n",
    "    maximum_steps=EXECUTION_STEPS,\n",
    "    maximum_program_length=100,\n",
    "    memory_size=MEMORY_SIZE,\n",
    "    alphabet_size=CHOMSKY_ALPHABET_SIZE,\n",
    "    batch_size=BATCH_SIZE,\n",
    ")\n",
    "\n",
    "chomsky_generator = make_chomsky_generator(rng, use_delimiters=USE_DELIMITERS, task_str=\"modular_arithmetic\")\n",
    "\n",
    "def training_loop():\n",
    "    model_sizes = [\n",
    "        # \"small\", \n",
    "        # \"medium\", \n",
    "        \"large\"\n",
    "    ]\n",
    "    use_markovs = [\n",
    "        True, \n",
    "        # False\n",
    "    ]\n",
    "    for use_markov in use_markovs:\n",
    "        for model_size in model_sizes:\n",
    "            params, loss, eval_losses, eval_accs, eval_final_accs = train_transformer_decoder(\n",
    "                data_generator=utm_generator,\n",
    "                training_steps=TRAINING_STEPS,\n",
    "                batch_size=BATCH_SIZE,\n",
    "                log_every=10,\n",
    "                with_markov=use_markov,\n",
    "                size=model_size,\n",
    "                eval_data_generator=chomsky_generator,\n",
    "            )\n",
    "            logging.info(\"Final loss: %f\", loss)\n",
    "\n",
    "            SUFFIX = \"markov\" if use_markov else \"original\"\n",
    "\n",
    "            file_name = f\"params_{SUFFIX}_transformer_{model_size}.npz\"\n",
    "            save_params(params, file_name)\n",
    "\n",
    "            logging.info(f\"Parameters saved in file {file_name}\")\n",
    "\n",
    "            # Create a pandas DataFrame from the evaluation metrics\n",
    "            eval_data = {\n",
    "                \"eval_losses\": eval_losses,\n",
    "                \"eval_accs\": eval_accs,\n",
    "                \"eval_final_accs\": eval_final_accs,\n",
    "            }\n",
    "            eval_df = pd.DataFrame(eval_data)\n",
    "\n",
    "            # Save the DataFrame to a CSV file\n",
    "            metrics_name = f\"metrics_{SUFFIX}_transformer_{model_size}.csv\"\n",
    "            eval_df.to_csv(metrics_name, index=False)\n",
    "\n",
    "            logging.info(f\"Evaluation metrics saved to {metrics_name}\")\n",
    "\n",
    "training_loop()"
   ]
  },
  {
   "cell_type": "code",
   "execution_count": 6,
   "metadata": {},
   "outputs": [],
   "source": [
    "# Plotting eval accs and eval final accs\n",
    "# plt.plot(eval_accs, label=\"avg\", color=\"red\")\n",
    "# plt.plot(eval_final_accs, label=\"final\", color=\"blue\")\n",
    "# plt.legend()\n",
    "# plt.show()"
   ]
  },
  {
   "cell_type": "code",
   "execution_count": 7,
   "metadata": {},
   "outputs": [],
   "source": [
    "# For testing only. Chomsky evaluation is done in run_chomsky_experiments.ipynb\n",
    "# regret, total_accuracy, total_final_accuracy = evaluate_transformer_decoder(\n",
    "#     chomsky_generator, params, utm_generator, num_batches=10, size=MODEL_SIZE\n",
    "# )\n",
    "# print(total_accuracy, total_final_accuracy)"
   ]
  }
 ],
 "metadata": {
  "kernelspec": {
   "display_name": "nnsi",
   "language": "python",
   "name": "python3"
  },
  "language_info": {
   "codemirror_mode": {
    "name": "ipython",
    "version": 3
   },
   "file_extension": ".py",
   "mimetype": "text/x-python",
   "name": "python",
   "nbconvert_exporter": "python",
   "pygments_lexer": "ipython3",
   "version": "3.13.2"
  }
 },
 "nbformat": 4,
 "nbformat_minor": 2
}
